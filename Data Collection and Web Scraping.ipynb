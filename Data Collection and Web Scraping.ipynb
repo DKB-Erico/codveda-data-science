{
 "cells": [
  {
   "cell_type": "code",
   "id": "initial_id",
   "metadata": {
    "collapsed": true,
    "ExecuteTime": {
     "end_time": "2025-09-26T16:46:44.019295Z",
     "start_time": "2025-09-26T16:46:44.013947Z"
    }
   },
   "source": [
    "# Importing necessary libraries\n",
    "import requests\n",
    "from bs4 import BeautifulSoup\n",
    "import pandas as pd"
   ],
   "outputs": [],
   "execution_count": 8
  },
  {
   "metadata": {
    "ExecuteTime": {
     "end_time": "2025-09-26T17:13:03.444936Z",
     "start_time": "2025-09-26T17:13:01.858364Z"
    }
   },
   "cell_type": "code",
   "source": [
    "# Testing first page\n",
    "url = \"https://books.toscrape.com/catalogue/page-1.html\"\n",
    "response = requests.get(url)\n",
    "soup = BeautifulSoup(response.text, \"html.parser\")\n",
    "\n",
    "# Grab all book containers\n",
    "books = soup.find_all(\"article\", class_=\"product_pod\")\n",
    "print(len(books))"
   ],
   "id": "7b47c707b9327cc3",
   "outputs": [
    {
     "name": "stdout",
     "output_type": "stream",
     "text": [
      "20\n"
     ]
    }
   ],
   "execution_count": 14
  },
  {
   "metadata": {
    "ExecuteTime": {
     "end_time": "2025-09-26T17:21:27.878681Z",
     "start_time": "2025-09-26T17:21:27.868517Z"
    }
   },
   "cell_type": "code",
   "source": [
    "# Extracting one book\n",
    "book = books[5]\n",
    "\n",
    "title = book.h3.a[\"title\"]\n",
    "price = book.find(\"p\", class_ = \"price_color\").text\n",
    "stock = book.find(\"p\", class_ = \"instock availability\").get_text(strip=True)\n",
    "rating = book.p[\"class\"][1]\n",
    "\n",
    "print(\"Title: \" + title)\n",
    "print(\"Price: \" + price)\n",
    "print(\"Stock: \" + stock)\n",
    "print(\"Rating: \" + rating)"
   ],
   "id": "25b5c4d27edcca6b",
   "outputs": [
    {
     "name": "stdout",
     "output_type": "stream",
     "text": [
      "Title: The Requiem Red\n",
      "Price: Â£22.65\n",
      "Stock: In stock\n",
      "Rating: One\n"
     ]
    }
   ],
   "execution_count": 20
  }
 ],
 "metadata": {
  "kernelspec": {
   "display_name": "Python 3",
   "language": "python",
   "name": "python3"
  },
  "language_info": {
   "codemirror_mode": {
    "name": "ipython",
    "version": 2
   },
   "file_extension": ".py",
   "mimetype": "text/x-python",
   "name": "python",
   "nbconvert_exporter": "python",
   "pygments_lexer": "ipython2",
   "version": "2.7.6"
  }
 },
 "nbformat": 4,
 "nbformat_minor": 5
}
