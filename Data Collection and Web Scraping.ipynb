{
 "cells": [
  {
   "metadata": {
    "collapsed": true,
    "ExecuteTime": {
     "end_time": "2025-09-27T19:54:06.008666Z",
     "start_time": "2025-09-27T19:53:55.640193Z"
    }
   },
   "cell_type": "code",
   "source": [
    "# Importing necessary libraries\n",
    "import requests\n",
    "from bs4 import BeautifulSoup\n",
    "import pandas as pd"
   ],
   "id": "11c8639128410695",
   "outputs": [],
   "execution_count": 2
  },
  {
   "metadata": {
    "ExecuteTime": {
     "end_time": "2025-09-27T19:54:07.808339Z",
     "start_time": "2025-09-27T19:54:06.022152Z"
    }
   },
   "cell_type": "code",
   "source": [
    "# Testing first page\n",
    "url = \"https://books.toscrape.com/catalogue/page-1.html\"\n",
    "response = requests.get(url)\n",
    "soup = BeautifulSoup(response.text, \"html.parser\")\n",
    "\n",
    "# Grab all book containers\n",
    "books = soup.find_all(\"article\", class_=\"product_pod\")\n",
    "print(len(books))"
   ],
   "id": "e1cf909cd6487417",
   "outputs": [
    {
     "name": "stdout",
     "output_type": "stream",
     "text": [
      "20\n"
     ]
    }
   ],
   "execution_count": 3
  },
  {
   "metadata": {
    "ExecuteTime": {
     "end_time": "2025-09-27T19:54:07.992993Z",
     "start_time": "2025-09-27T19:54:07.985200Z"
    }
   },
   "cell_type": "code",
   "source": [
    "# Extracting one book\n",
    "book = books[5]\n",
    "\n",
    "title = book.h3.a[\"title\"]\n",
    "price = book.find(\"p\", class_ = \"price_color\").text\n",
    "stock = book.find(\"p\", class_ = \"instock availability\").get_text(strip=True)\n",
    "rating = book.p[\"class\"][1]\n",
    "\n",
    "print(\"Title: \" + title)\n",
    "print(\"Price: \" + price)\n",
    "print(\"Stock: \" + stock)\n",
    "print(\"Rating: \" + rating)"
   ],
   "id": "f845095bf7b771a4",
   "outputs": [
    {
     "name": "stdout",
     "output_type": "stream",
     "text": [
      "Title: The Requiem Red\n",
      "Price: Â£22.65\n",
      "Stock: In stock\n",
      "Rating: One\n"
     ]
    }
   ],
   "execution_count": 4
  },
  {
   "metadata": {
    "ExecuteTime": {
     "end_time": "2025-09-27T20:10:16.385842Z",
     "start_time": "2025-09-27T20:10:16.364944Z"
    }
   },
   "cell_type": "code",
   "source": [
    "# Looping over the books on one Page\n",
    "items = []\n",
    "\n",
    "for book in books:\n",
    "    title = book.h3.a[\"title\"]\n",
    "    price = book.find(\"p\", class_=\"price_color\").text\n",
    "    stock = book.find(\"p\", class_=\"instock availability\").get_text(strip=True)\n",
    "    rating = book.p[\"class\"][1]\n",
    "\n",
    "    items.append([title, price, stock, rating])\n",
    "\n",
    "# Creating a dataset for books data\n",
    "df = pd.DataFrame(items, columns = [\"Title\", \"Price\", \"Stock\", \"Rating\"])\n",
    "df.head()"
   ],
   "id": "2ff597aea5573ff7",
   "outputs": [
    {
     "data": {
      "text/plain": [
       "                                   Title    Price     Stock Rating\n",
       "0                   A Light in the Attic  Â£51.77  In stock  Three\n",
       "1                     Tipping the Velvet  Â£53.74  In stock    One\n",
       "2                             Soumission  Â£50.10  In stock    One\n",
       "3                          Sharp Objects  Â£47.82  In stock   Four\n",
       "4  Sapiens: A Brief History of Humankind  Â£54.23  In stock   Five"
      ],
      "text/html": [
       "<div>\n",
       "<style scoped>\n",
       "    .dataframe tbody tr th:only-of-type {\n",
       "        vertical-align: middle;\n",
       "    }\n",
       "\n",
       "    .dataframe tbody tr th {\n",
       "        vertical-align: top;\n",
       "    }\n",
       "\n",
       "    .dataframe thead th {\n",
       "        text-align: right;\n",
       "    }\n",
       "</style>\n",
       "<table border=\"1\" class=\"dataframe\">\n",
       "  <thead>\n",
       "    <tr style=\"text-align: right;\">\n",
       "      <th></th>\n",
       "      <th>Title</th>\n",
       "      <th>Price</th>\n",
       "      <th>Stock</th>\n",
       "      <th>Rating</th>\n",
       "    </tr>\n",
       "  </thead>\n",
       "  <tbody>\n",
       "    <tr>\n",
       "      <th>0</th>\n",
       "      <td>A Light in the Attic</td>\n",
       "      <td>Â£51.77</td>\n",
       "      <td>In stock</td>\n",
       "      <td>Three</td>\n",
       "    </tr>\n",
       "    <tr>\n",
       "      <th>1</th>\n",
       "      <td>Tipping the Velvet</td>\n",
       "      <td>Â£53.74</td>\n",
       "      <td>In stock</td>\n",
       "      <td>One</td>\n",
       "    </tr>\n",
       "    <tr>\n",
       "      <th>2</th>\n",
       "      <td>Soumission</td>\n",
       "      <td>Â£50.10</td>\n",
       "      <td>In stock</td>\n",
       "      <td>One</td>\n",
       "    </tr>\n",
       "    <tr>\n",
       "      <th>3</th>\n",
       "      <td>Sharp Objects</td>\n",
       "      <td>Â£47.82</td>\n",
       "      <td>In stock</td>\n",
       "      <td>Four</td>\n",
       "    </tr>\n",
       "    <tr>\n",
       "      <th>4</th>\n",
       "      <td>Sapiens: A Brief History of Humankind</td>\n",
       "      <td>Â£54.23</td>\n",
       "      <td>In stock</td>\n",
       "      <td>Five</td>\n",
       "    </tr>\n",
       "  </tbody>\n",
       "</table>\n",
       "</div>"
      ]
     },
     "execution_count": 10,
     "metadata": {},
     "output_type": "execute_result"
    }
   ],
   "execution_count": 10
  },
  {
   "metadata": {
    "ExecuteTime": {
     "end_time": "2025-09-27T20:14:40.341723Z",
     "start_time": "2025-09-27T20:13:34.797417Z"
    }
   },
   "cell_type": "code",
   "source": [
    "# Looping over the books on all pages\n",
    "all_books = []\n",
    "\n",
    "for page in range(1, 51):\n",
    "    url = f\"https://books.toscrape.com/catalogue/page-{page}.html\"\n",
    "    response = requests.get(url)\n",
    "    soup = BeautifulSoup(response.text, \"html.parser\")\n",
    "    books = soup.find_all(\"article\", class_=\"product_pod\")\n",
    "\n",
    "    for book in books:\n",
    "        title = book.h3.a[\"title\"]\n",
    "        price = book.find(\"p\", class_ = \"price_color\").text\n",
    "        stock = book.find(\"p\", class_ = \"instock availability\").get_text(strip=True)\n",
    "        rating = book.p[\"class\"][1]\n",
    "\n",
    "        all_books.append([title, price, stock, rating])\n",
    "\n",
    "# Creating dataset of books data\n",
    "df = pd.DataFrame(all_books, columns = [\"Title\", \"Price\", \"Stock\", \"Rating\"])\n",
    "df.shape"
   ],
   "id": "7e791017e2359a17",
   "outputs": [
    {
     "data": {
      "text/plain": [
       "(1000, 4)"
      ]
     },
     "execution_count": 11,
     "metadata": {},
     "output_type": "execute_result"
    }
   ],
   "execution_count": 11
  },
  {
   "metadata": {
    "ExecuteTime": {
     "end_time": "2025-09-27T20:21:06.250414Z",
     "start_time": "2025-09-27T20:21:06.224640Z"
    }
   },
   "cell_type": "code",
   "source": [
    "# Saving dataset to CSV\n",
    "df.to_csv(\"books_scraped.csv\", index = False)\n",
    "df.describe()"
   ],
   "id": "e0c275a30f9a539c",
   "outputs": [
    {
     "data": {
      "text/plain": [
       "                         Title    Price     Stock Rating\n",
       "count                     1000     1000      1000   1000\n",
       "unique                     999      903         1      5\n",
       "top     The Star-Touched Queen  Â£44.18  In stock    One\n",
       "freq                         2        3      1000    226"
      ],
      "text/html": [
       "<div>\n",
       "<style scoped>\n",
       "    .dataframe tbody tr th:only-of-type {\n",
       "        vertical-align: middle;\n",
       "    }\n",
       "\n",
       "    .dataframe tbody tr th {\n",
       "        vertical-align: top;\n",
       "    }\n",
       "\n",
       "    .dataframe thead th {\n",
       "        text-align: right;\n",
       "    }\n",
       "</style>\n",
       "<table border=\"1\" class=\"dataframe\">\n",
       "  <thead>\n",
       "    <tr style=\"text-align: right;\">\n",
       "      <th></th>\n",
       "      <th>Title</th>\n",
       "      <th>Price</th>\n",
       "      <th>Stock</th>\n",
       "      <th>Rating</th>\n",
       "    </tr>\n",
       "  </thead>\n",
       "  <tbody>\n",
       "    <tr>\n",
       "      <th>count</th>\n",
       "      <td>1000</td>\n",
       "      <td>1000</td>\n",
       "      <td>1000</td>\n",
       "      <td>1000</td>\n",
       "    </tr>\n",
       "    <tr>\n",
       "      <th>unique</th>\n",
       "      <td>999</td>\n",
       "      <td>903</td>\n",
       "      <td>1</td>\n",
       "      <td>5</td>\n",
       "    </tr>\n",
       "    <tr>\n",
       "      <th>top</th>\n",
       "      <td>The Star-Touched Queen</td>\n",
       "      <td>Â£44.18</td>\n",
       "      <td>In stock</td>\n",
       "      <td>One</td>\n",
       "    </tr>\n",
       "    <tr>\n",
       "      <th>freq</th>\n",
       "      <td>2</td>\n",
       "      <td>3</td>\n",
       "      <td>1000</td>\n",
       "      <td>226</td>\n",
       "    </tr>\n",
       "  </tbody>\n",
       "</table>\n",
       "</div>"
      ]
     },
     "execution_count": 20,
     "metadata": {},
     "output_type": "execute_result"
    }
   ],
   "execution_count": 20
  }
 ],
 "metadata": {
  "kernelspec": {
   "display_name": "Python 3",
   "language": "python",
   "name": "python3"
  },
  "language_info": {
   "codemirror_mode": {
    "name": "ipython",
    "version": 2
   },
   "file_extension": ".py",
   "mimetype": "text/x-python",
   "name": "python",
   "nbconvert_exporter": "python",
   "pygments_lexer": "ipython2",
   "version": "2.7.6"
  }
 },
 "nbformat": 4,
 "nbformat_minor": 5
}
